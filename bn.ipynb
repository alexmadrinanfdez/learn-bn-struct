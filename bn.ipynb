{
 "cells": [
  {
   "cell_type": "code",
   "execution_count": 1,
   "metadata": {},
   "outputs": [],
   "source": [
    "# imports\n",
    "import matplotlib.pyplot as plt\n",
    "import networkx as nx\n",
    "import numpy as np\n",
    "import pandas as pd\n",
    "\n",
    "from pgmpy.estimators import HillClimbSearch, PC\n",
    "from pgmpy.estimators import MaximumLikelihoodEstimator, BayesianEstimator\n",
    "from pgmpy.metrics import log_likelihood_score\n",
    "from pgmpy.models import BayesianNetwork\n",
    "\n",
    "from sklearn.compose import ColumnTransformer\n",
    "from sklearn.impute import SimpleImputer\n",
    "from sklearn.model_selection import train_test_split\n",
    "from sklearn.preprocessing import KBinsDiscretizer"
   ]
  },
  {
   "cell_type": "code",
   "execution_count": 2,
   "metadata": {},
   "outputs": [],
   "source": [
    "%matplotlib inline\n",
    "plt.style.use('dark_background')"
   ]
  },
  {
   "cell_type": "markdown",
   "metadata": {},
   "source": [
    "# Data set\n",
    "\n",
    "Contains data on demographics and an target feature which indicates if the person earns more than $50k a year."
   ]
  },
  {
   "cell_type": "code",
   "execution_count": 3,
   "metadata": {},
   "outputs": [],
   "source": [
    "df = pd.read_csv(\n",
    "    \"https://www.openml.org/data/get_csv/1595261/phpMawTba\", na_values=' ?'\n",
    ")"
   ]
  },
  {
   "cell_type": "markdown",
   "metadata": {},
   "source": [
    "## Missing values\n",
    "\n",
    "In this dataset, missing values are identified with the question mark (with a preceding space), ` ?`.\n",
    "\n",
    "Check the non-null counts to confirm that some values have been identified as `NA` (Not Available)."
   ]
  },
  {
   "cell_type": "code",
   "execution_count": 4,
   "metadata": {},
   "outputs": [
    {
     "name": "stdout",
     "output_type": "stream",
     "text": [
      "<class 'pandas.core.frame.DataFrame'>\n",
      "RangeIndex: 48842 entries, 0 to 48841\n",
      "Data columns (total 15 columns):\n",
      " #   Column          Non-Null Count  Dtype \n",
      "---  ------          --------------  ----- \n",
      " 0   age             48842 non-null  int64 \n",
      " 1   workclass       46043 non-null  object\n",
      " 2   fnlwgt          48842 non-null  int64 \n",
      " 3   education       48842 non-null  object\n",
      " 4   education-num   48842 non-null  int64 \n",
      " 5   marital-status  48842 non-null  object\n",
      " 6   occupation      46033 non-null  object\n",
      " 7   relationship    48842 non-null  object\n",
      " 8   race            48842 non-null  object\n",
      " 9   sex             48842 non-null  object\n",
      " 10  capital-gain    48842 non-null  int64 \n",
      " 11  capital-loss    48842 non-null  int64 \n",
      " 12  hours-per-week  48842 non-null  int64 \n",
      " 13  native-country  47985 non-null  object\n",
      " 14  class           48842 non-null  object\n",
      "dtypes: int64(6), object(9)\n",
      "memory usage: 5.6+ MB\n"
     ]
    }
   ],
   "source": [
    "df.info()"
   ]
  },
  {
   "cell_type": "code",
   "execution_count": 5,
   "metadata": {},
   "outputs": [
    {
     "data": {
      "text/plain": [
       "age                  0\n",
       "workclass         2799\n",
       "fnlwgt               0\n",
       "education            0\n",
       "education-num        0\n",
       "marital-status       0\n",
       "occupation        2809\n",
       "relationship         0\n",
       "race                 0\n",
       "sex                  0\n",
       "capital-gain         0\n",
       "capital-loss         0\n",
       "hours-per-week       0\n",
       "native-country     857\n",
       "class                0\n",
       "dtype: int64"
      ]
     },
     "execution_count": 5,
     "metadata": {},
     "output_type": "execute_result"
    }
   ],
   "source": [
    "df.isna().sum() # equivalently"
   ]
  },
  {
   "cell_type": "markdown",
   "metadata": {},
   "source": [
    "Even in Bayesian Networks **can** handle missing values (note the EM algorithm, for example), in this case imputation of missing values will be performed in order to simplify learning both _structure_ and _parameters_.\n",
    "\n",
    "Instead of performing a rather simplistic imputation based only on the present (non-null) values of the specific variable, a more realistic approach would be to use the **whole _data-points_** to try to estimate missing values. \n",
    "\n",
    "Nevertheless, bear in mind that this kind of imputation, which usually entails computing an average, is only feasible for numeric variables. Sadly, not available values in the data set all belong to categorical variables. Imputation for discrete values is not as well support and so we resort to a simplified imputation. Namely, the most frequent value of each variable is used as the imputation value. According to scikit-learn's documentation:\n",
    "\n",
    "> If there is more than one such value, only the smallest is returned."
   ]
  },
  {
   "cell_type": "code",
   "execution_count": 6,
   "metadata": {},
   "outputs": [
    {
     "name": "stdout",
     "output_type": "stream",
     "text": [
      "<class 'pandas.core.frame.DataFrame'>\n",
      "RangeIndex: 48842 entries, 0 to 48841\n",
      "Data columns (total 9 columns):\n",
      " #   Column          Non-Null Count  Dtype \n",
      "---  ------          --------------  ----- \n",
      " 0   workclass       46043 non-null  object\n",
      " 1   education       48842 non-null  object\n",
      " 2   marital-status  48842 non-null  object\n",
      " 3   occupation      46033 non-null  object\n",
      " 4   relationship    48842 non-null  object\n",
      " 5   race            48842 non-null  object\n",
      " 6   sex             48842 non-null  object\n",
      " 7   native-country  47985 non-null  object\n",
      " 8   class           48842 non-null  object\n",
      "dtypes: object(9)\n",
      "memory usage: 3.4+ MB\n"
     ]
    }
   ],
   "source": [
    "mask = df.dtypes == object\n",
    "df.loc[:, mask].info()"
   ]
  },
  {
   "cell_type": "code",
   "execution_count": 7,
   "metadata": {},
   "outputs": [],
   "source": [
    "# not neccesary to explictly specify NA values\n",
    "# missing_values='?'\n",
    "imp = SimpleImputer(strategy='most_frequent')\n",
    "df.loc[:, mask] = imp.fit_transform(df.loc[:, mask]) # copy=False is invalid"
   ]
  },
  {
   "cell_type": "markdown",
   "metadata": {},
   "source": [
    "The total number of missing values now is"
   ]
  },
  {
   "cell_type": "code",
   "execution_count": 8,
   "metadata": {},
   "outputs": [
    {
     "data": {
      "text/plain": [
       "0"
      ]
     },
     "execution_count": 8,
     "metadata": {},
     "output_type": "execute_result"
    }
   ],
   "source": [
    "df.isna().sum().sum()"
   ]
  },
  {
   "cell_type": "markdown",
   "metadata": {},
   "source": [
    "## Continuous features\n",
    "\n",
    "Bayesian networks can handle both discrete and continuous variables. However, we will focus on discrete Bayesian networks.\n",
    "\n",
    "Therefore, continuous features will need to be discretized. Continuous features are usually identified with numerical features. But that is not always the case. The `education-num` variable is categorial, even though it is codified with numbers."
   ]
  },
  {
   "cell_type": "code",
   "execution_count": 9,
   "metadata": {},
   "outputs": [
    {
     "data": {
      "text/plain": [
       "16"
      ]
     },
     "execution_count": 9,
     "metadata": {},
     "output_type": "execute_result"
    }
   ],
   "source": [
    "len(df['education-num'].value_counts()) # number of different values"
   ]
  },
  {
   "cell_type": "code",
   "execution_count": 10,
   "metadata": {},
   "outputs": [
    {
     "data": {
      "text/html": [
       "<div>\n",
       "<style scoped>\n",
       "    .dataframe tbody tr th:only-of-type {\n",
       "        vertical-align: middle;\n",
       "    }\n",
       "\n",
       "    .dataframe tbody tr th {\n",
       "        vertical-align: top;\n",
       "    }\n",
       "\n",
       "    .dataframe thead th {\n",
       "        text-align: right;\n",
       "    }\n",
       "</style>\n",
       "<table border=\"1\" class=\"dataframe\">\n",
       "  <thead>\n",
       "    <tr style=\"text-align: right;\">\n",
       "      <th></th>\n",
       "      <th>age</th>\n",
       "      <th>fnlwgt</th>\n",
       "      <th>capital-gain</th>\n",
       "      <th>capital-loss</th>\n",
       "      <th>hours-per-week</th>\n",
       "    </tr>\n",
       "  </thead>\n",
       "  <tbody>\n",
       "    <tr>\n",
       "      <th>0</th>\n",
       "      <td>25</td>\n",
       "      <td>226802</td>\n",
       "      <td>0</td>\n",
       "      <td>0</td>\n",
       "      <td>40</td>\n",
       "    </tr>\n",
       "    <tr>\n",
       "      <th>1</th>\n",
       "      <td>38</td>\n",
       "      <td>89814</td>\n",
       "      <td>0</td>\n",
       "      <td>0</td>\n",
       "      <td>50</td>\n",
       "    </tr>\n",
       "    <tr>\n",
       "      <th>2</th>\n",
       "      <td>28</td>\n",
       "      <td>336951</td>\n",
       "      <td>0</td>\n",
       "      <td>0</td>\n",
       "      <td>40</td>\n",
       "    </tr>\n",
       "    <tr>\n",
       "      <th>3</th>\n",
       "      <td>44</td>\n",
       "      <td>160323</td>\n",
       "      <td>7688</td>\n",
       "      <td>0</td>\n",
       "      <td>40</td>\n",
       "    </tr>\n",
       "    <tr>\n",
       "      <th>4</th>\n",
       "      <td>18</td>\n",
       "      <td>103497</td>\n",
       "      <td>0</td>\n",
       "      <td>0</td>\n",
       "      <td>30</td>\n",
       "    </tr>\n",
       "    <tr>\n",
       "      <th>...</th>\n",
       "      <td>...</td>\n",
       "      <td>...</td>\n",
       "      <td>...</td>\n",
       "      <td>...</td>\n",
       "      <td>...</td>\n",
       "    </tr>\n",
       "    <tr>\n",
       "      <th>48837</th>\n",
       "      <td>27</td>\n",
       "      <td>257302</td>\n",
       "      <td>0</td>\n",
       "      <td>0</td>\n",
       "      <td>38</td>\n",
       "    </tr>\n",
       "    <tr>\n",
       "      <th>48838</th>\n",
       "      <td>40</td>\n",
       "      <td>154374</td>\n",
       "      <td>0</td>\n",
       "      <td>0</td>\n",
       "      <td>40</td>\n",
       "    </tr>\n",
       "    <tr>\n",
       "      <th>48839</th>\n",
       "      <td>58</td>\n",
       "      <td>151910</td>\n",
       "      <td>0</td>\n",
       "      <td>0</td>\n",
       "      <td>40</td>\n",
       "    </tr>\n",
       "    <tr>\n",
       "      <th>48840</th>\n",
       "      <td>22</td>\n",
       "      <td>201490</td>\n",
       "      <td>0</td>\n",
       "      <td>0</td>\n",
       "      <td>20</td>\n",
       "    </tr>\n",
       "    <tr>\n",
       "      <th>48841</th>\n",
       "      <td>52</td>\n",
       "      <td>287927</td>\n",
       "      <td>15024</td>\n",
       "      <td>0</td>\n",
       "      <td>40</td>\n",
       "    </tr>\n",
       "  </tbody>\n",
       "</table>\n",
       "<p>48842 rows × 5 columns</p>\n",
       "</div>"
      ],
      "text/plain": [
       "       age  fnlwgt  capital-gain  capital-loss  hours-per-week\n",
       "0       25  226802             0             0              40\n",
       "1       38   89814             0             0              50\n",
       "2       28  336951             0             0              40\n",
       "3       44  160323          7688             0              40\n",
       "4       18  103497             0             0              30\n",
       "...    ...     ...           ...           ...             ...\n",
       "48837   27  257302             0             0              38\n",
       "48838   40  154374             0             0              40\n",
       "48839   58  151910             0             0              40\n",
       "48840   22  201490             0             0              20\n",
       "48841   52  287927         15024             0              40\n",
       "\n",
       "[48842 rows x 5 columns]"
      ]
     },
     "execution_count": 10,
     "metadata": {},
     "output_type": "execute_result"
    }
   ],
   "source": [
    "mask = df.dtypes == np.int64\n",
    "mask[4] = False # education-num index\n",
    "df.loc[:, mask]"
   ]
  },
  {
   "cell_type": "markdown",
   "metadata": {},
   "source": [
    "Using `scikit-learn`, there basically two options to discretize all continuous variables. \n",
    "One option is to create an indivual transformation for each.\n",
    "```\n",
    "bins = [0, 1, 13, 20, 60, np.inf]\n",
    "labels = ['infant', 'kid', 'teen', 'adult', 'senior citizen']\n",
    "age_tf = FunctionTransformer(\n",
    "    pd.cut, kw_args={'bins': bins, 'labels': labels, 'retbins': False}\n",
    ")\n",
    "age_tf.fit_transform(df['age'])\n",
    "```\n",
    "But there is an alternative that consists of making use of `scikit-learn`'s `KBinsDiscretizer`.\n",
    "One of the advantages of this technique is that the bins can be selected according to various strategies. The chosen method performs clustering for each variable (1-D) in order to group the instances.\n",
    "\n",
    "**to do**: https://pgmpy.org/factors/discretize.html"
   ]
  },
  {
   "cell_type": "code",
   "execution_count": 11,
   "metadata": {},
   "outputs": [
    {
     "data": {
      "text/plain": [
       "array([[0., 2., 0., 0., 1.],\n",
       "       [1., 0., 0., 0., 2.],\n",
       "       [0., 3., 0., 0., 1.],\n",
       "       ...,\n",
       "       [2., 1., 0., 0., 1.],\n",
       "       [0., 1., 0., 0., 0.],\n",
       "       [2., 2., 2., 0., 1.]])"
      ]
     },
     "execution_count": 11,
     "metadata": {},
     "output_type": "execute_result"
    }
   ],
   "source": [
    "# n_bins=5 (default)\n",
    "ct = ColumnTransformer([\n",
    "    ('age',  KBinsDiscretizer(n_bins=3, encode='ordinal', strategy='kmeans'), [0]),\n",
    "    ('fnlwgt',         KBinsDiscretizer(encode='ordinal', strategy='kmeans'), [1]),\n",
    "    ('capital-gain',   KBinsDiscretizer(encode='ordinal', strategy='kmeans'), [2]),\n",
    "    ('capital-loss',   KBinsDiscretizer(encode='ordinal', strategy='kmeans'), [3]),\n",
    "    ('hours-per-week', KBinsDiscretizer(encode='ordinal', strategy='kmeans'), [4])\n",
    "])\n",
    "ct.fit_transform(df.loc[:, mask])"
   ]
  },
  {
   "cell_type": "code",
   "execution_count": 12,
   "metadata": {},
   "outputs": [
    {
     "data": {
      "text/html": [
       "<div>\n",
       "<style scoped>\n",
       "    .dataframe tbody tr th:only-of-type {\n",
       "        vertical-align: middle;\n",
       "    }\n",
       "\n",
       "    .dataframe tbody tr th {\n",
       "        vertical-align: top;\n",
       "    }\n",
       "\n",
       "    .dataframe thead th {\n",
       "        text-align: right;\n",
       "    }\n",
       "</style>\n",
       "<table border=\"1\" class=\"dataframe\">\n",
       "  <thead>\n",
       "    <tr style=\"text-align: right;\">\n",
       "      <th></th>\n",
       "      <th>age</th>\n",
       "      <th>workclass</th>\n",
       "      <th>fnlwgt</th>\n",
       "      <th>education</th>\n",
       "      <th>education-num</th>\n",
       "      <th>marital-status</th>\n",
       "      <th>occupation</th>\n",
       "      <th>relationship</th>\n",
       "      <th>race</th>\n",
       "      <th>sex</th>\n",
       "      <th>capital-gain</th>\n",
       "      <th>capital-loss</th>\n",
       "      <th>hours-per-week</th>\n",
       "      <th>native-country</th>\n",
       "      <th>class</th>\n",
       "    </tr>\n",
       "  </thead>\n",
       "  <tbody>\n",
       "    <tr>\n",
       "      <th>0</th>\n",
       "      <td>0.0</td>\n",
       "      <td>Private</td>\n",
       "      <td>2.0</td>\n",
       "      <td>11th</td>\n",
       "      <td>7</td>\n",
       "      <td>Never-married</td>\n",
       "      <td>Machine-op-inspct</td>\n",
       "      <td>Own-child</td>\n",
       "      <td>Black</td>\n",
       "      <td>Male</td>\n",
       "      <td>0.0</td>\n",
       "      <td>0.0</td>\n",
       "      <td>1.0</td>\n",
       "      <td>United-States</td>\n",
       "      <td>&lt;=50K</td>\n",
       "    </tr>\n",
       "    <tr>\n",
       "      <th>1</th>\n",
       "      <td>1.0</td>\n",
       "      <td>Private</td>\n",
       "      <td>0.0</td>\n",
       "      <td>HS-grad</td>\n",
       "      <td>9</td>\n",
       "      <td>Married-civ-spouse</td>\n",
       "      <td>Farming-fishing</td>\n",
       "      <td>Husband</td>\n",
       "      <td>White</td>\n",
       "      <td>Male</td>\n",
       "      <td>0.0</td>\n",
       "      <td>0.0</td>\n",
       "      <td>2.0</td>\n",
       "      <td>United-States</td>\n",
       "      <td>&lt;=50K</td>\n",
       "    </tr>\n",
       "    <tr>\n",
       "      <th>2</th>\n",
       "      <td>0.0</td>\n",
       "      <td>Local-gov</td>\n",
       "      <td>3.0</td>\n",
       "      <td>Assoc-acdm</td>\n",
       "      <td>12</td>\n",
       "      <td>Married-civ-spouse</td>\n",
       "      <td>Protective-serv</td>\n",
       "      <td>Husband</td>\n",
       "      <td>White</td>\n",
       "      <td>Male</td>\n",
       "      <td>0.0</td>\n",
       "      <td>0.0</td>\n",
       "      <td>1.0</td>\n",
       "      <td>United-States</td>\n",
       "      <td>&gt;50K</td>\n",
       "    </tr>\n",
       "    <tr>\n",
       "      <th>3</th>\n",
       "      <td>1.0</td>\n",
       "      <td>Private</td>\n",
       "      <td>1.0</td>\n",
       "      <td>Some-college</td>\n",
       "      <td>10</td>\n",
       "      <td>Married-civ-spouse</td>\n",
       "      <td>Machine-op-inspct</td>\n",
       "      <td>Husband</td>\n",
       "      <td>Black</td>\n",
       "      <td>Male</td>\n",
       "      <td>1.0</td>\n",
       "      <td>0.0</td>\n",
       "      <td>1.0</td>\n",
       "      <td>United-States</td>\n",
       "      <td>&gt;50K</td>\n",
       "    </tr>\n",
       "    <tr>\n",
       "      <th>4</th>\n",
       "      <td>0.0</td>\n",
       "      <td>Private</td>\n",
       "      <td>0.0</td>\n",
       "      <td>Some-college</td>\n",
       "      <td>10</td>\n",
       "      <td>Never-married</td>\n",
       "      <td>Prof-specialty</td>\n",
       "      <td>Own-child</td>\n",
       "      <td>White</td>\n",
       "      <td>Female</td>\n",
       "      <td>0.0</td>\n",
       "      <td>0.0</td>\n",
       "      <td>1.0</td>\n",
       "      <td>United-States</td>\n",
       "      <td>&lt;=50K</td>\n",
       "    </tr>\n",
       "    <tr>\n",
       "      <th>...</th>\n",
       "      <td>...</td>\n",
       "      <td>...</td>\n",
       "      <td>...</td>\n",
       "      <td>...</td>\n",
       "      <td>...</td>\n",
       "      <td>...</td>\n",
       "      <td>...</td>\n",
       "      <td>...</td>\n",
       "      <td>...</td>\n",
       "      <td>...</td>\n",
       "      <td>...</td>\n",
       "      <td>...</td>\n",
       "      <td>...</td>\n",
       "      <td>...</td>\n",
       "      <td>...</td>\n",
       "    </tr>\n",
       "    <tr>\n",
       "      <th>48837</th>\n",
       "      <td>0.0</td>\n",
       "      <td>Private</td>\n",
       "      <td>2.0</td>\n",
       "      <td>Assoc-acdm</td>\n",
       "      <td>12</td>\n",
       "      <td>Married-civ-spouse</td>\n",
       "      <td>Tech-support</td>\n",
       "      <td>Wife</td>\n",
       "      <td>White</td>\n",
       "      <td>Female</td>\n",
       "      <td>0.0</td>\n",
       "      <td>0.0</td>\n",
       "      <td>1.0</td>\n",
       "      <td>United-States</td>\n",
       "      <td>&lt;=50K</td>\n",
       "    </tr>\n",
       "    <tr>\n",
       "      <th>48838</th>\n",
       "      <td>1.0</td>\n",
       "      <td>Private</td>\n",
       "      <td>1.0</td>\n",
       "      <td>HS-grad</td>\n",
       "      <td>9</td>\n",
       "      <td>Married-civ-spouse</td>\n",
       "      <td>Machine-op-inspct</td>\n",
       "      <td>Husband</td>\n",
       "      <td>White</td>\n",
       "      <td>Male</td>\n",
       "      <td>0.0</td>\n",
       "      <td>0.0</td>\n",
       "      <td>1.0</td>\n",
       "      <td>United-States</td>\n",
       "      <td>&gt;50K</td>\n",
       "    </tr>\n",
       "    <tr>\n",
       "      <th>48839</th>\n",
       "      <td>2.0</td>\n",
       "      <td>Private</td>\n",
       "      <td>1.0</td>\n",
       "      <td>HS-grad</td>\n",
       "      <td>9</td>\n",
       "      <td>Widowed</td>\n",
       "      <td>Adm-clerical</td>\n",
       "      <td>Unmarried</td>\n",
       "      <td>White</td>\n",
       "      <td>Female</td>\n",
       "      <td>0.0</td>\n",
       "      <td>0.0</td>\n",
       "      <td>1.0</td>\n",
       "      <td>United-States</td>\n",
       "      <td>&lt;=50K</td>\n",
       "    </tr>\n",
       "    <tr>\n",
       "      <th>48840</th>\n",
       "      <td>0.0</td>\n",
       "      <td>Private</td>\n",
       "      <td>1.0</td>\n",
       "      <td>HS-grad</td>\n",
       "      <td>9</td>\n",
       "      <td>Never-married</td>\n",
       "      <td>Adm-clerical</td>\n",
       "      <td>Own-child</td>\n",
       "      <td>White</td>\n",
       "      <td>Male</td>\n",
       "      <td>0.0</td>\n",
       "      <td>0.0</td>\n",
       "      <td>0.0</td>\n",
       "      <td>United-States</td>\n",
       "      <td>&lt;=50K</td>\n",
       "    </tr>\n",
       "    <tr>\n",
       "      <th>48841</th>\n",
       "      <td>2.0</td>\n",
       "      <td>Self-emp-inc</td>\n",
       "      <td>2.0</td>\n",
       "      <td>HS-grad</td>\n",
       "      <td>9</td>\n",
       "      <td>Married-civ-spouse</td>\n",
       "      <td>Exec-managerial</td>\n",
       "      <td>Wife</td>\n",
       "      <td>White</td>\n",
       "      <td>Female</td>\n",
       "      <td>2.0</td>\n",
       "      <td>0.0</td>\n",
       "      <td>1.0</td>\n",
       "      <td>United-States</td>\n",
       "      <td>&gt;50K</td>\n",
       "    </tr>\n",
       "  </tbody>\n",
       "</table>\n",
       "<p>48842 rows × 15 columns</p>\n",
       "</div>"
      ],
      "text/plain": [
       "       age      workclass  fnlwgt      education  education-num  \\\n",
       "0      0.0        Private     2.0           11th              7   \n",
       "1      1.0        Private     0.0        HS-grad              9   \n",
       "2      0.0      Local-gov     3.0     Assoc-acdm             12   \n",
       "3      1.0        Private     1.0   Some-college             10   \n",
       "4      0.0        Private     0.0   Some-college             10   \n",
       "...    ...            ...     ...            ...            ...   \n",
       "48837  0.0        Private     2.0     Assoc-acdm             12   \n",
       "48838  1.0        Private     1.0        HS-grad              9   \n",
       "48839  2.0        Private     1.0        HS-grad              9   \n",
       "48840  0.0        Private     1.0        HS-grad              9   \n",
       "48841  2.0   Self-emp-inc     2.0        HS-grad              9   \n",
       "\n",
       "            marital-status          occupation relationship    race      sex  \\\n",
       "0            Never-married   Machine-op-inspct    Own-child   Black     Male   \n",
       "1       Married-civ-spouse     Farming-fishing      Husband   White     Male   \n",
       "2       Married-civ-spouse     Protective-serv      Husband   White     Male   \n",
       "3       Married-civ-spouse   Machine-op-inspct      Husband   Black     Male   \n",
       "4            Never-married      Prof-specialty    Own-child   White   Female   \n",
       "...                    ...                 ...          ...     ...      ...   \n",
       "48837   Married-civ-spouse        Tech-support         Wife   White   Female   \n",
       "48838   Married-civ-spouse   Machine-op-inspct      Husband   White     Male   \n",
       "48839              Widowed        Adm-clerical    Unmarried   White   Female   \n",
       "48840        Never-married        Adm-clerical    Own-child   White     Male   \n",
       "48841   Married-civ-spouse     Exec-managerial         Wife   White   Female   \n",
       "\n",
       "       capital-gain  capital-loss  hours-per-week  native-country   class  \n",
       "0               0.0           0.0             1.0   United-States   <=50K  \n",
       "1               0.0           0.0             2.0   United-States   <=50K  \n",
       "2               0.0           0.0             1.0   United-States    >50K  \n",
       "3               1.0           0.0             1.0   United-States    >50K  \n",
       "4               0.0           0.0             1.0   United-States   <=50K  \n",
       "...             ...           ...             ...             ...     ...  \n",
       "48837           0.0           0.0             1.0   United-States   <=50K  \n",
       "48838           0.0           0.0             1.0   United-States    >50K  \n",
       "48839           0.0           0.0             1.0   United-States   <=50K  \n",
       "48840           0.0           0.0             0.0   United-States   <=50K  \n",
       "48841           2.0           0.0             1.0   United-States    >50K  \n",
       "\n",
       "[48842 rows x 15 columns]"
      ]
     },
     "execution_count": 12,
     "metadata": {},
     "output_type": "execute_result"
    }
   ],
   "source": [
    "df.loc[:, mask] = ct.fit_transform(df.loc[:, mask])\n",
    "df"
   ]
  },
  {
   "cell_type": "markdown",
   "metadata": {},
   "source": [
    "# Learning\n",
    "\n",
    "With `pgmpy`.\n",
    "\n",
    "But first, let's split the data set into two training and validation sets."
   ]
  },
  {
   "cell_type": "code",
   "execution_count": 13,
   "metadata": {},
   "outputs": [
    {
     "data": {
      "text/plain": [
       "(48842, 15)"
      ]
     },
     "execution_count": 13,
     "metadata": {},
     "output_type": "execute_result"
    }
   ],
   "source": [
    "df.shape"
   ]
  },
  {
   "cell_type": "code",
   "execution_count": 14,
   "metadata": {},
   "outputs": [
    {
     "name": "stdout",
     "output_type": "stream",
     "text": [
      "(32561, 15)\n",
      "(16281, 15)\n"
     ]
    }
   ],
   "source": [
    "train, valid = train_test_split(df, train_size=2/3, random_state=0)\n",
    "\n",
    "print(train.shape)\n",
    "print(valid.shape)"
   ]
  },
  {
   "cell_type": "markdown",
   "metadata": {},
   "source": [
    "## Structure learning\n",
    "\n",
    "From the data, estimate dependencies and, therefore, the more appropiate DAG.\n",
    "\n",
    "In this notebook, two learning methods are explored."
   ]
  },
  {
   "cell_type": "code",
   "execution_count": 15,
   "metadata": {},
   "outputs": [],
   "source": [
    "dags = []"
   ]
  },
  {
   "cell_type": "markdown",
   "metadata": {},
   "source": [
    "### Score-based structure learning\n",
    "\n",
    "The naive approach is an exhaustive search.\n",
    "Because the search space of DAGs is super-exponential, once more than a few nodes are involved, one needs to switch to heuristic search. `HillClimbSearch` implements a greedy local search that starts from the DAG `start` (which by default is a disconnected DAG) and proceeds by iteratively performing single-edge manipulations that maximally increase the score. The search terminates once a local maximum is found."
   ]
  },
  {
   "cell_type": "code",
   "execution_count": 16,
   "metadata": {},
   "outputs": [],
   "source": [
    "hc = HillClimbSearch(train)"
   ]
  },
  {
   "cell_type": "markdown",
   "metadata": {},
   "source": [
    "A non-exhaustive list of hyperparameters for the model is:\n",
    "\n",
    "- `scoring_method`: the score to be optimized during structure estimation.\n",
    "- `tabu_list`: Set the length (`n`) of the tabu list. It effectively enforces a wider exploration of the search space. The list keeps track of the last `n` modfications; those are then not allowed to be reversed, regardless of the score.\n",
    "- `white_list`: restrict the search to a particular subset of the edges/nodes.\n",
    "- `black_list`: exclude certain edges/nodes from the search.\n",
    "- `max_indegree`: allows to restrict the maximum number of parents for each node."
   ]
  },
  {
   "cell_type": "code",
   "execution_count": 17,
   "metadata": {},
   "outputs": [
    {
     "name": "stderr",
     "output_type": "stream",
     "text": [
      "  0%|          | 29/1000000 [00:21<208:54:46,  1.33it/s]\n",
      "  0%|          | 26/1000000 [00:17<188:03:35,  1.48it/s]\n",
      "  0%|          | 29/1000000 [00:19<184:05:43,  1.51it/s]\n",
      "  0%|          | 25/1000000 [00:12<137:55:42,  2.01it/s]\n",
      "  0%|          | 29/1000000 [00:21<203:55:43,  1.36it/s]"
     ]
    },
    {
     "name": "stdout",
     "output_type": "stream",
     "text": [
      "  0%|          | ne/maximum [ ...time_stats... ]\n",
      "--> if 'ne' is the number of edges for the model\n"
     ]
    },
    {
     "name": "stderr",
     "output_type": "stream",
     "text": [
      "\n"
     ]
    }
   ],
   "source": [
    "black_list = ['fnlwgt', 'sex', 'race', 'native-country', 'relationship']\n",
    "\n",
    "hc_def = hc.estimate() # default\n",
    "hc_bde = hc.estimate(scoring_method='bdeuscore')\n",
    "hc_tl = hc.estimate(tabu_length=0)\n",
    "hc_mi = hc.estimate(max_indegree=2)\n",
    "hc_bl = hc.estimate(black_list=black_list)\n",
    "\n",
    "dags.append(hc_def)\n",
    "dags.append(hc_bde)\n",
    "dags.append(hc_tl)\n",
    "dags.append(hc_mi)\n",
    "dags.append(hc_bl)\n",
    "\n",
    "print(\"  0%|          | ne/maximum [ ...time_stats... ]\")\n",
    "print(\"--> if 'ne' is the number of edges for the model\")"
   ]
  },
  {
   "cell_type": "markdown",
   "metadata": {},
   "source": [
    "### Constraint-based structure learning\n",
    "\n",
    "A different, but quite straightforward approach to build a DAG from data is to identify independencies in the data set using hypothesis tests (for example, $\\chi^2$ tests) and then construct DAG (pattern) according to those identified independencies.\n",
    "\n",
    "This procedure can potentially define structures that are not representable as DAGs (e.g., a cycle) and, hence, as BNs."
   ]
  },
  {
   "cell_type": "code",
   "execution_count": 18,
   "metadata": {},
   "outputs": [],
   "source": [
    "pc = PC(train)"
   ]
  },
  {
   "cell_type": "markdown",
   "metadata": {},
   "source": [
    "A non-exhaustive list of hyperparameters for the model is:\n",
    "- `variant`: the variant of PC algorithm to run.\n",
    "- `ci_test`: the statistical test to assess conditional independece.\n",
    "- `max_cond_vars`: the maximum number of conditional variables. It relates to the number of parents in the network.\n",
    "- `significance_level`: threshold for the $p$-value that decides independence."
   ]
  },
  {
   "cell_type": "code",
   "execution_count": 19,
   "metadata": {},
   "outputs": [
    {
     "name": "stderr",
     "output_type": "stream",
     "text": [
      "Working for n conditional variables: 1: 100%|██████████| 1/1 [01:51<00:00, 111.12s/it]\n",
      "C:\\Users\\Alejandro\\AppData\\Local\\Packages\\PythonSoftwareFoundation.Python.3.9_qbz5n2kfra8p0\\LocalCache\\local-packages\\Python39\\site-packages\\pgmpy\\base\\DAG.py:1187: UserWarning: PDAG has no faithful extension (= no oriented DAG with the same v-structures as PDAG). Remaining undirected PDAG edges oriented arbitrarily.\n",
      "  warn(\n",
      "Working for n conditional variables: 1: 100%|██████████| 1/1 [02:06<00:00, 126.48s/it]\n",
      "Working for n conditional variables: 1: 100%|██████████| 1/1 [01:35<00:00, 95.42s/it]"
     ]
    },
    {
     "name": "stdout",
     "output_type": "stream",
     "text": [
      "Working for n conditional variables: n: 100%|██████████| n/m [ ...time_stats... ]\n",
      "\n",
      "Not a DAG. Not able to construct a network.\n",
      "<- parameters (variant='orig', max_cond_vars=1)\n",
      "Not a DAG. Not able to construct a network.\n",
      "<- parameter (max_cond_vars=1)\n",
      "Not a DAG. Not able to construct a network.\n",
      "<- parameters (max_cond_vars=1, significance_level=0.05)\n"
     ]
    },
    {
     "name": "stderr",
     "output_type": "stream",
     "text": [
      "\n"
     ]
    }
   ],
   "source": [
    "# pc_def = pc.estimate() # default\n",
    "pc_ori = pc.estimate(variant='orig', max_cond_vars=1)\n",
    "pc_mcv = pc.estimate(max_cond_vars=1)\n",
    "pc_sl = pc.estimate(max_cond_vars=1, significance_level=0.05)\n",
    "\n",
    "print(\"Working for n conditional variables: n: 100%|██████████| n/m [ ...time_stats... ]\\n\")\n",
    "\n",
    "# models.append(pc_def)\n",
    "\n",
    "# check if there is valid structure first\n",
    "if nx.is_directed_acyclic_graph(pc_ori):\n",
    "    dags.append(pc_ori)\n",
    "else:\n",
    "    print(\"Not a DAG. Not able to construct a network.\")\n",
    "    print(\"<- parameters (variant='orig', max_cond_vars=1)\")\n",
    "\n",
    "if nx.is_directed_acyclic_graph(pc_mcv):\n",
    "    dags.append(pc_mcv)\n",
    "else:\n",
    "    print(\"Not a DAG. Not able to construct a network.\")\n",
    "    print(\"<- parameter (max_cond_vars=1)\")\n",
    "\n",
    "if nx.is_directed_acyclic_graph(pc_sl):\n",
    "    dags.append(pc_sl)\n",
    "else:\n",
    "    print(\"Not a DAG. Not able to construct a network.\")\n",
    "    print(\"<- parameters (max_cond_vars=1, significance_level=0.05)\")"
   ]
  },
  {
   "cell_type": "markdown",
   "metadata": {},
   "source": [
    "## Parameter learning\n",
    "\n",
    "Once the structure of the network is available, the independent paramaters that define the network can be estimated. This is, probabilities for the conditional probability distributions (CPDs).\n",
    "\n",
    "Even if the training set is quite large, because it also has a lot of variables, we will compare the probability estimates obtained with and without considering a prior distribution."
   ]
  },
  {
   "cell_type": "code",
   "execution_count": 20,
   "metadata": {},
   "outputs": [],
   "source": [
    "# the network can be defined just by passing a list of edges\n",
    "models = [BayesianNetwork(dag.edges) for dag in dags]\n",
    "\n",
    "models *= 2 # duplicate array\n",
    "n = len(models)"
   ]
  },
  {
   "cell_type": "markdown",
   "metadata": {},
   "source": [
    "### MLE\n",
    "\n",
    "Maximum likelihood estimation (MLE) bases its estimates solely on the data. It computes them through relative frequency counts.\n"
   ]
  },
  {
   "cell_type": "code",
   "execution_count": 21,
   "metadata": {},
   "outputs": [],
   "source": [
    "for model in models[:n//2]:\n",
    "    model.fit(train, estimator=MaximumLikelihoodEstimator) # default"
   ]
  },
  {
   "cell_type": "markdown",
   "metadata": {},
   "source": [
    "### Bayesian estimation"
   ]
  },
  {
   "cell_type": "code",
   "execution_count": 22,
   "metadata": {},
   "outputs": [],
   "source": [
    "for model in models[n//2:]:\n",
    "    model.fit(\n",
    "        train, estimator=BayesianEstimator, \n",
    "        prior_type='BDeu', equivalent_sample_size=10**3\n",
    "    )"
   ]
  },
  {
   "cell_type": "markdown",
   "metadata": {},
   "source": [
    "## Validation\n",
    "\n",
    "Once the models are set, they can be assessed using some metric. In this case, we use the _log-likelihood_, which represents how likely is a model to represent the underlying structure of the data.\n",
    "\n",
    "The scores obtained in the training set do not have to be representative of the true performance of the models. That is why we have a validation set."
   ]
  },
  {
   "cell_type": "code",
   "execution_count": 23,
   "metadata": {},
   "outputs": [
    {
     "name": "stdout",
     "output_type": "stream",
     "text": [
      "Training:\n",
      "[-592900.2459524851, -597285.1095377017, -592900.2459524851, -595642.8103850656, -592900.2459524851, -592900.2459524851, -597285.1095377017, -592900.2459524851, -595642.8103850656, -592900.2459524851]\n",
      "Validation:\n",
      "[-298511.4784119628, -299872.6582930205, -298511.4784119628, -299421.97166703595, -298511.4784119628, -298511.4784119628, -299872.6582930205, -298511.4784119628, -299421.97166703595, -298511.4784119628]\n"
     ]
    }
   ],
   "source": [
    "ll_train = [log_likelihood_score(model, train) for model in models]\n",
    "ll_valid = [log_likelihood_score(model, valid) for model in models]\n",
    "\n",
    "print('Training:')\n",
    "print(ll_train)\n",
    "print('Validation:')\n",
    "print(ll_valid)"
   ]
  },
  {
   "cell_type": "code",
   "execution_count": 24,
   "metadata": {},
   "outputs": [],
   "source": [
    "model_txt = ['def', 'bde', 'tl', 'mi', 'bl']\n",
    "model_txt *= 2 # duplicate\n",
    "\n",
    "for i in range(n//2):\n",
    "    model_txt[i] += '_ml' # maximum likelihood\n",
    "for i in range(n//2, n):\n",
    "    model_txt[i] += '_bp' # bayesian prior"
   ]
  },
  {
   "cell_type": "markdown",
   "metadata": {},
   "source": [
    "The log-likelihood can be arbitrarily low, but its maximum value is zero. A value of zero would indicate that the model fits perfectly the data.\n",
    "\n",
    "From the figure, changing the parameters did not interfiere much with the performance.\n",
    "Curiously, the training data obains a lower score than the validation data."
   ]
  },
  {
   "cell_type": "code",
   "execution_count": 25,
   "metadata": {},
   "outputs": [
    {
     "data": {
      "text/plain": [
       "<matplotlib.legend.Legend at 0x2031be038e0>"
      ]
     },
     "execution_count": 25,
     "metadata": {},
     "output_type": "execute_result"
    },
    {
     "data": {
      "image/png": "[encoded data removed]",
      "text/plain": [
       "<Figure size 504x360 with 1 Axes>"
      ]
     },
     "metadata": {},
     "output_type": "display_data"
    }
   ],
   "source": [
    "fig, ax = plt.subplots(figsize=(7, 5))\n",
    "ax.bar(model_txt, ll_train)\n",
    "ax.bar(model_txt, ll_valid)\n",
    "ax.set_ylabel('log-likelihood')\n",
    "ax.legend(['training', 'validation'])\n",
    "# fig.show()"
   ]
  },
  {
   "cell_type": "code",
   "execution_count": 26,
   "metadata": {},
   "outputs": [
    {
     "name": "stdout",
     "output_type": "stream",
     "text": [
      "def_ml\n",
      "-------\n",
      "[('age', 'class'), ('age', 'education-num'), ('age', 'workclass'), ('class', 'education-num'), ('class', 'capital-gain'), ('class', 'capital-loss'), ('class', 'occupation'), ('class', 'hours-per-week'), ('class', 'sex'), ('education-num', 'education'), ('education-num', 'occupation'), ('occupation', 'workclass'), ('occupation', 'hours-per-week'), ('marital-status', 'relationship'), ('marital-status', 'age'), ('marital-status', 'sex'), ('relationship', 'sex'), ('relationship', 'class'), ('relationship', 'hours-per-week'), ('relationship', 'age'), ('relationship', 'capital-gain'), ('sex', 'occupation'), ('capital-gain', 'capital-loss'), ('race', 'marital-status'), ('race', 'fnlwgt'), ('race', 'relationship'), ('native-country', 'race'), ('native-country', 'education-num'), ('native-country', 'fnlwgt')]\n"
     ]
    }
   ],
   "source": [
    "# choose the model that leads to the best loglikelihood (on the validation data)\n",
    "ix = np.argmax(ll_valid)\n",
    "bn = models[ix]\n",
    "\n",
    "print(model_txt[ix])\n",
    "print('-' * 7)\n",
    "print(bn.edges)"
   ]
  },
  {
   "cell_type": "markdown",
   "metadata": {},
   "source": [
    "The resulting DAG can be visualized."
   ]
  },
  {
   "cell_type": "code",
   "execution_count": 31,
   "metadata": {},
   "outputs": [
    {
     "data": {
      "image/png": "[encoded data removed]",
      "text/plain": [
       "<Figure size 1440x1440 with 1 Axes>"
      ]
     },
     "metadata": {},
     "output_type": "display_data"
    }
   ],
   "source": [
    "# build graph\n",
    "graph = nx.DiGraph()\n",
    "graph.add_edges_from(bn.edges)\n",
    "\n",
    "# plot graph\n",
    "plt.figure(figsize=(20,20))\n",
    "plt.tight_layout()\n",
    "options = {\n",
    "    'node_color': 'lightblue',\n",
    "    'node_size': 10**4,\n",
    "    'width': 3,\n",
    "    'arrowstyle': '-|>',\n",
    "    'arrowsize': 10,\n",
    "    'edge_color':'salmon'\n",
    "}\n",
    "# nx.draw_networkx(G[, pos, arrows, with_labels])\n",
    "nx.draw_networkx(graph, **options)\n",
    "# plt.show()"
   ]
  }
 ],
 "metadata": {
  "interpreter": {
   "hash": "0f664bf6f9d28357bf54b0262484dbdcedb626861171656ee53cb9753368fe1a"
  },
  "kernelspec": {
   "display_name": "Python 3.8.5 64-bit ('base': conda)",
   "name": "python3"
  },
  "language_info": {
   "codemirror_mode": {
    "name": "ipython",
    "version": 3
   },
   "file_extension": ".py",
   "mimetype": "text/x-python",
   "name": "python",
   "nbconvert_exporter": "python",
   "pygments_lexer": "ipython3",
   "version": "3.9.9"
  },
  "orig_nbformat": 4
 },
 "nbformat": 4,
 "nbformat_minor": 2
}
